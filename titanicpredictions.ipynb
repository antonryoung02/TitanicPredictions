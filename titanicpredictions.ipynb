{
 "cells": [
  {
   "cell_type": "code",
   "execution_count": 1,
   "id": "b80bd3fc",
   "metadata": {
    "_cell_guid": "b1076dfc-b9ad-4769-8c92-a6c4dae69d19",
    "_uuid": "8f2839f25d086af736a60e9eeb907d3b93b6e0e5",
    "execution": {
     "iopub.execute_input": "2022-09-30T18:48:03.353282Z",
     "iopub.status.busy": "2022-09-30T18:48:03.352382Z",
     "iopub.status.idle": "2022-09-30T18:48:03.368193Z",
     "shell.execute_reply": "2022-09-30T18:48:03.366909Z"
    },
    "papermill": {
     "duration": 0.028153,
     "end_time": "2022-09-30T18:48:03.371475",
     "exception": false,
     "start_time": "2022-09-30T18:48:03.343322",
     "status": "completed"
    },
    "tags": []
   },
   "outputs": [
    {
     "name": "stdout",
     "output_type": "stream",
     "text": [
      "/kaggle/input/titanic/train.csv\n",
      "/kaggle/input/titanic/test.csv\n",
      "/kaggle/input/titanic/gender_submission.csv\n"
     ]
    }
   ],
   "source": [
    "# This Python 3 environment comes with many helpful analytics libraries installed\n",
    "# It is defined by the kaggle/python Docker image: https://github.com/kaggle/docker-python\n",
    "# For example, here's several helpful packages to load\n",
    "\n",
    "import numpy as np # linear algebra\n",
    "import pandas as pd # data processing, CSV file I/O (e.g. pd.read_csv)\n",
    "\n",
    "# Input data files are available in the read-only \"../input/\" directory\n",
    "# For example, running this (by clicking run or pressing Shift+Enter) will list all files under the input directory\n",
    "\n",
    "import os\n",
    "for dirname, _, filenames in os.walk('/kaggle/input'):\n",
    "    for filename in filenames:\n",
    "        print(os.path.join(dirname, filename))\n",
    "\n",
    "# You can write up to 20GB to the current directory (/kaggle/working/) that gets preserved as output when you create a version using \"Save & Run All\" \n",
    "# You can also write temporary files to /kaggle/temp/, but they won't be saved outside of the current session"
   ]
  },
  {
   "cell_type": "code",
   "execution_count": 2,
   "id": "9358534b",
   "metadata": {
    "execution": {
     "iopub.execute_input": "2022-09-30T18:48:03.382605Z",
     "iopub.status.busy": "2022-09-30T18:48:03.382203Z",
     "iopub.status.idle": "2022-09-30T18:48:03.435769Z",
     "shell.execute_reply": "2022-09-30T18:48:03.433976Z"
    },
    "papermill": {
     "duration": 0.063047,
     "end_time": "2022-09-30T18:48:03.439194",
     "exception": false,
     "start_time": "2022-09-30T18:48:03.376147",
     "status": "completed"
    },
    "tags": []
   },
   "outputs": [
    {
     "data": {
      "text/html": [
       "<div>\n",
       "<style scoped>\n",
       "    .dataframe tbody tr th:only-of-type {\n",
       "        vertical-align: middle;\n",
       "    }\n",
       "\n",
       "    .dataframe tbody tr th {\n",
       "        vertical-align: top;\n",
       "    }\n",
       "\n",
       "    .dataframe thead th {\n",
       "        text-align: right;\n",
       "    }\n",
       "</style>\n",
       "<table border=\"1\" class=\"dataframe\">\n",
       "  <thead>\n",
       "    <tr style=\"text-align: right;\">\n",
       "      <th></th>\n",
       "      <th>PassengerId</th>\n",
       "      <th>Survived</th>\n",
       "      <th>Pclass</th>\n",
       "      <th>Name</th>\n",
       "      <th>Sex</th>\n",
       "      <th>Age</th>\n",
       "      <th>SibSp</th>\n",
       "      <th>Parch</th>\n",
       "      <th>Ticket</th>\n",
       "      <th>Fare</th>\n",
       "      <th>Cabin</th>\n",
       "      <th>Embarked</th>\n",
       "    </tr>\n",
       "  </thead>\n",
       "  <tbody>\n",
       "    <tr>\n",
       "      <th>0</th>\n",
       "      <td>1</td>\n",
       "      <td>0</td>\n",
       "      <td>3</td>\n",
       "      <td>Braund, Mr. Owen Harris</td>\n",
       "      <td>male</td>\n",
       "      <td>22.0</td>\n",
       "      <td>1</td>\n",
       "      <td>0</td>\n",
       "      <td>A/5 21171</td>\n",
       "      <td>7.2500</td>\n",
       "      <td>NaN</td>\n",
       "      <td>S</td>\n",
       "    </tr>\n",
       "    <tr>\n",
       "      <th>1</th>\n",
       "      <td>2</td>\n",
       "      <td>1</td>\n",
       "      <td>1</td>\n",
       "      <td>Cumings, Mrs. John Bradley (Florence Briggs Th...</td>\n",
       "      <td>female</td>\n",
       "      <td>38.0</td>\n",
       "      <td>1</td>\n",
       "      <td>0</td>\n",
       "      <td>PC 17599</td>\n",
       "      <td>71.2833</td>\n",
       "      <td>C85</td>\n",
       "      <td>C</td>\n",
       "    </tr>\n",
       "    <tr>\n",
       "      <th>2</th>\n",
       "      <td>3</td>\n",
       "      <td>1</td>\n",
       "      <td>3</td>\n",
       "      <td>Heikkinen, Miss. Laina</td>\n",
       "      <td>female</td>\n",
       "      <td>26.0</td>\n",
       "      <td>0</td>\n",
       "      <td>0</td>\n",
       "      <td>STON/O2. 3101282</td>\n",
       "      <td>7.9250</td>\n",
       "      <td>NaN</td>\n",
       "      <td>S</td>\n",
       "    </tr>\n",
       "    <tr>\n",
       "      <th>3</th>\n",
       "      <td>4</td>\n",
       "      <td>1</td>\n",
       "      <td>1</td>\n",
       "      <td>Futrelle, Mrs. Jacques Heath (Lily May Peel)</td>\n",
       "      <td>female</td>\n",
       "      <td>35.0</td>\n",
       "      <td>1</td>\n",
       "      <td>0</td>\n",
       "      <td>113803</td>\n",
       "      <td>53.1000</td>\n",
       "      <td>C123</td>\n",
       "      <td>S</td>\n",
       "    </tr>\n",
       "    <tr>\n",
       "      <th>4</th>\n",
       "      <td>5</td>\n",
       "      <td>0</td>\n",
       "      <td>3</td>\n",
       "      <td>Allen, Mr. William Henry</td>\n",
       "      <td>male</td>\n",
       "      <td>35.0</td>\n",
       "      <td>0</td>\n",
       "      <td>0</td>\n",
       "      <td>373450</td>\n",
       "      <td>8.0500</td>\n",
       "      <td>NaN</td>\n",
       "      <td>S</td>\n",
       "    </tr>\n",
       "  </tbody>\n",
       "</table>\n",
       "</div>"
      ],
      "text/plain": [
       "   PassengerId  Survived  Pclass  \\\n",
       "0            1         0       3   \n",
       "1            2         1       1   \n",
       "2            3         1       3   \n",
       "3            4         1       1   \n",
       "4            5         0       3   \n",
       "\n",
       "                                                Name     Sex   Age  SibSp  \\\n",
       "0                            Braund, Mr. Owen Harris    male  22.0      1   \n",
       "1  Cumings, Mrs. John Bradley (Florence Briggs Th...  female  38.0      1   \n",
       "2                             Heikkinen, Miss. Laina  female  26.0      0   \n",
       "3       Futrelle, Mrs. Jacques Heath (Lily May Peel)  female  35.0      1   \n",
       "4                           Allen, Mr. William Henry    male  35.0      0   \n",
       "\n",
       "   Parch            Ticket     Fare Cabin Embarked  \n",
       "0      0         A/5 21171   7.2500   NaN        S  \n",
       "1      0          PC 17599  71.2833   C85        C  \n",
       "2      0  STON/O2. 3101282   7.9250   NaN        S  \n",
       "3      0            113803  53.1000  C123        S  \n",
       "4      0            373450   8.0500   NaN        S  "
      ]
     },
     "execution_count": 2,
     "metadata": {},
     "output_type": "execute_result"
    }
   ],
   "source": [
    "train_file = \"/kaggle/input/titanic/train.csv\"\n",
    "train = pd.read_csv(train_file)\n",
    "train.head()"
   ]
  },
  {
   "cell_type": "code",
   "execution_count": 3,
   "id": "baa75403",
   "metadata": {
    "execution": {
     "iopub.execute_input": "2022-09-30T18:48:03.451886Z",
     "iopub.status.busy": "2022-09-30T18:48:03.451388Z",
     "iopub.status.idle": "2022-09-30T18:48:03.465026Z",
     "shell.execute_reply": "2022-09-30T18:48:03.463240Z"
    },
    "papermill": {
     "duration": 0.02354,
     "end_time": "2022-09-30T18:48:03.467929",
     "exception": false,
     "start_time": "2022-09-30T18:48:03.444389",
     "status": "completed"
    },
    "tags": []
   },
   "outputs": [
    {
     "data": {
      "text/plain": [
       "PassengerId      0\n",
       "Survived         0\n",
       "Pclass           0\n",
       "Name             0\n",
       "Sex              0\n",
       "Age            177\n",
       "SibSp            0\n",
       "Parch            0\n",
       "Ticket           0\n",
       "Fare             0\n",
       "Cabin          687\n",
       "Embarked         2\n",
       "dtype: int64"
      ]
     },
     "execution_count": 3,
     "metadata": {},
     "output_type": "execute_result"
    }
   ],
   "source": [
    "train.isna().sum()"
   ]
  },
  {
   "cell_type": "code",
   "execution_count": 4,
   "id": "6a9c7837",
   "metadata": {
    "execution": {
     "iopub.execute_input": "2022-09-30T18:48:03.479569Z",
     "iopub.status.busy": "2022-09-30T18:48:03.479165Z",
     "iopub.status.idle": "2022-09-30T18:48:05.105198Z",
     "shell.execute_reply": "2022-09-30T18:48:05.103908Z"
    },
    "papermill": {
     "duration": 1.635058,
     "end_time": "2022-09-30T18:48:05.107880",
     "exception": false,
     "start_time": "2022-09-30T18:48:03.472822",
     "status": "completed"
    },
    "tags": []
   },
   "outputs": [
    {
     "data": {
      "text/plain": [
       "(891, 12)"
      ]
     },
     "execution_count": 4,
     "metadata": {},
     "output_type": "execute_result"
    }
   ],
   "source": [
    "from sklearn.preprocessing import StandardScaler, OneHotEncoder, OrdinalEncoder\n",
    "from sklearn.pipeline import make_pipeline\n",
    "from sklearn.compose import make_column_transformer\n",
    "from sklearn.impute import SimpleImputer\n",
    "from xgboost import XGBClassifier\n",
    "from sklearn.ensemble import RandomForestClassifier\n",
    "from sklearn.linear_model import LogisticRegression\n",
    "from sklearn.model_selection import cross_val_score, GridSearchCV, RandomizedSearchCV\n",
    "from sklearn.metrics import accuracy_score\n",
    "train.shape"
   ]
  },
  {
   "cell_type": "code",
   "execution_count": 5,
   "id": "7dfc5939",
   "metadata": {
    "execution": {
     "iopub.execute_input": "2022-09-30T18:48:05.121585Z",
     "iopub.status.busy": "2022-09-30T18:48:05.120277Z",
     "iopub.status.idle": "2022-09-30T18:48:05.127509Z",
     "shell.execute_reply": "2022-09-30T18:48:05.126023Z"
    },
    "papermill": {
     "duration": 0.017358,
     "end_time": "2022-09-30T18:48:05.130308",
     "exception": false,
     "start_time": "2022-09-30T18:48:05.112950",
     "status": "completed"
    },
    "tags": []
   },
   "outputs": [],
   "source": [
    "numerical_features = ['Age', 'Fare']\n",
    "categorical_features = ['Sex', 'Embarked']\n",
    "drop_features = ['Cabin', 'Ticket', 'Name']"
   ]
  },
  {
   "cell_type": "code",
   "execution_count": 6,
   "id": "0c68e8ce",
   "metadata": {
    "execution": {
     "iopub.execute_input": "2022-09-30T18:48:05.141825Z",
     "iopub.status.busy": "2022-09-30T18:48:05.141409Z",
     "iopub.status.idle": "2022-09-30T18:48:05.163680Z",
     "shell.execute_reply": "2022-09-30T18:48:05.162444Z"
    },
    "papermill": {
     "duration": 0.031311,
     "end_time": "2022-09-30T18:48:05.166585",
     "exception": false,
     "start_time": "2022-09-30T18:48:05.135274",
     "status": "completed"
    },
    "tags": []
   },
   "outputs": [
    {
     "data": {
      "text/plain": [
       "((891, 11), (891,))"
      ]
     },
     "execution_count": 6,
     "metadata": {},
     "output_type": "execute_result"
    }
   ],
   "source": [
    "#fills the 2 null values in Embarked\n",
    "train.Embarked.fillna(train.Embarked.mode())\n",
    "train.shape\n",
    "\n",
    "#replaces null values in Age with the average age of the dataset\n",
    "train.Age.fillna(train.Age.mean(), inplace=True)\n",
    "\n",
    "#separating features and targets\n",
    "X_train = train.drop(['Survived'], axis=1)\n",
    "y_train = train['Survived']\n",
    "X_train.shape, y_train.shape"
   ]
  },
  {
   "cell_type": "code",
   "execution_count": 7,
   "id": "ab39e006",
   "metadata": {
    "execution": {
     "iopub.execute_input": "2022-09-30T18:48:05.179006Z",
     "iopub.status.busy": "2022-09-30T18:48:05.178235Z",
     "iopub.status.idle": "2022-09-30T18:48:05.205688Z",
     "shell.execute_reply": "2022-09-30T18:48:05.204481Z"
    },
    "papermill": {
     "duration": 0.036581,
     "end_time": "2022-09-30T18:48:05.208246",
     "exception": false,
     "start_time": "2022-09-30T18:48:05.171665",
     "status": "completed"
    },
    "tags": []
   },
   "outputs": [
    {
     "data": {
      "text/html": [
       "<div>\n",
       "<style scoped>\n",
       "    .dataframe tbody tr th:only-of-type {\n",
       "        vertical-align: middle;\n",
       "    }\n",
       "\n",
       "    .dataframe tbody tr th {\n",
       "        vertical-align: top;\n",
       "    }\n",
       "\n",
       "    .dataframe thead th {\n",
       "        text-align: right;\n",
       "    }\n",
       "</style>\n",
       "<table border=\"1\" class=\"dataframe\">\n",
       "  <thead>\n",
       "    <tr style=\"text-align: right;\">\n",
       "      <th></th>\n",
       "      <th>PassengerId</th>\n",
       "      <th>Pclass</th>\n",
       "      <th>Sex</th>\n",
       "      <th>Age</th>\n",
       "      <th>SibSp</th>\n",
       "      <th>Parch</th>\n",
       "      <th>Fare</th>\n",
       "      <th>Embarked</th>\n",
       "    </tr>\n",
       "  </thead>\n",
       "  <tbody>\n",
       "    <tr>\n",
       "      <th>0</th>\n",
       "      <td>1</td>\n",
       "      <td>3</td>\n",
       "      <td>1.0</td>\n",
       "      <td>-0.592481</td>\n",
       "      <td>1</td>\n",
       "      <td>0</td>\n",
       "      <td>-0.502445</td>\n",
       "      <td>2.0</td>\n",
       "    </tr>\n",
       "    <tr>\n",
       "      <th>1</th>\n",
       "      <td>2</td>\n",
       "      <td>1</td>\n",
       "      <td>0.0</td>\n",
       "      <td>0.638789</td>\n",
       "      <td>1</td>\n",
       "      <td>0</td>\n",
       "      <td>0.786845</td>\n",
       "      <td>0.0</td>\n",
       "    </tr>\n",
       "    <tr>\n",
       "      <th>2</th>\n",
       "      <td>3</td>\n",
       "      <td>3</td>\n",
       "      <td>0.0</td>\n",
       "      <td>-0.284663</td>\n",
       "      <td>0</td>\n",
       "      <td>0</td>\n",
       "      <td>-0.488854</td>\n",
       "      <td>2.0</td>\n",
       "    </tr>\n",
       "    <tr>\n",
       "      <th>3</th>\n",
       "      <td>4</td>\n",
       "      <td>1</td>\n",
       "      <td>0.0</td>\n",
       "      <td>0.407926</td>\n",
       "      <td>1</td>\n",
       "      <td>0</td>\n",
       "      <td>0.420730</td>\n",
       "      <td>2.0</td>\n",
       "    </tr>\n",
       "    <tr>\n",
       "      <th>4</th>\n",
       "      <td>5</td>\n",
       "      <td>3</td>\n",
       "      <td>1.0</td>\n",
       "      <td>0.407926</td>\n",
       "      <td>0</td>\n",
       "      <td>0</td>\n",
       "      <td>-0.486337</td>\n",
       "      <td>2.0</td>\n",
       "    </tr>\n",
       "  </tbody>\n",
       "</table>\n",
       "</div>"
      ],
      "text/plain": [
       "   PassengerId  Pclass  Sex       Age  SibSp  Parch      Fare  Embarked\n",
       "0            1       3  1.0 -0.592481      1      0 -0.502445       2.0\n",
       "1            2       1  0.0  0.638789      1      0  0.786845       0.0\n",
       "2            3       3  0.0 -0.284663      0      0 -0.488854       2.0\n",
       "3            4       1  0.0  0.407926      1      0  0.420730       2.0\n",
       "4            5       3  1.0  0.407926      0      0 -0.486337       2.0"
      ]
     },
     "execution_count": 7,
     "metadata": {},
     "output_type": "execute_result"
    }
   ],
   "source": [
    "#Function that transforms the dataset\n",
    "oe = OrdinalEncoder()\n",
    "std_s = StandardScaler()\n",
    "X_train[['Sex', 'Embarked']] = oe.fit_transform(X_train[['Sex', 'Embarked']])\n",
    "X_train[['Age', 'Fare']] = std_s.fit_transform(X_train[['Age', 'Fare']])\n",
    "#X_train = pd.DataFrame(X_train)\n",
    "X_train.drop(drop_features, axis=1, inplace=True)\n",
    "#X_train.head()\n",
    "X_train.head()"
   ]
  },
  {
   "cell_type": "code",
   "execution_count": 8,
   "id": "a835cf00",
   "metadata": {
    "execution": {
     "iopub.execute_input": "2022-09-30T18:48:05.221479Z",
     "iopub.status.busy": "2022-09-30T18:48:05.220275Z",
     "iopub.status.idle": "2022-09-30T18:48:05.228629Z",
     "shell.execute_reply": "2022-09-30T18:48:05.227262Z"
    },
    "papermill": {
     "duration": 0.017863,
     "end_time": "2022-09-30T18:48:05.231309",
     "exception": false,
     "start_time": "2022-09-30T18:48:05.213446",
     "status": "completed"
    },
    "tags": []
   },
   "outputs": [],
   "source": [
    "\n",
    "#model = XGBClassifier(objective='binary:logistic', seed=42, eval_metric='aucpr')\n",
    "final_model = XGBClassifier(n_estimators=60,subsample=0.8,colsample_bylevel = 0.8,max_depth = 4, gamma=1, alpha=1, reg_lambda=0, learning_rate=0.03)\n",
    "#final_model has best parameters found by gridsearch\n",
    "params_grid = {\n",
    "'n_estimators': [60],\n",
    "'max_depth': [4],\n",
    "'subsample': [0.8],\n",
    "'colsample_bytree': [0.8],\n",
    "'gamma': [1, 5, 10, 15],\n",
    "'learning_rate': [0.03],\n",
    "'lambda': [0, 0.001],\n",
    "'alpha': [0, 0.001, 0.003, 0.01, 0.1, 1]}\n"
   ]
  },
  {
   "cell_type": "code",
   "execution_count": 9,
   "id": "cd2a5db6",
   "metadata": {
    "execution": {
     "iopub.execute_input": "2022-09-30T18:48:05.243364Z",
     "iopub.status.busy": "2022-09-30T18:48:05.242932Z",
     "iopub.status.idle": "2022-09-30T18:48:05.463102Z",
     "shell.execute_reply": "2022-09-30T18:48:05.461781Z"
    },
    "papermill": {
     "duration": 0.22927,
     "end_time": "2022-09-30T18:48:05.465651",
     "exception": false,
     "start_time": "2022-09-30T18:48:05.236381",
     "status": "completed"
    },
    "tags": []
   },
   "outputs": [
    {
     "data": {
      "text/plain": [
       "XGBClassifier(alpha=1, base_score=0.5, booster='gbtree', callbacks=None,\n",
       "              colsample_bylevel=0.8, colsample_bynode=1, colsample_bytree=1,\n",
       "              early_stopping_rounds=None, enable_categorical=False,\n",
       "              eval_metric=None, gamma=1, gpu_id=-1, grow_policy='depthwise',\n",
       "              importance_type=None, interaction_constraints='',\n",
       "              learning_rate=0.03, max_bin=256, max_cat_to_onehot=4,\n",
       "              max_delta_step=0, max_depth=4, max_leaves=0, min_child_weight=1,\n",
       "              missing=nan, monotone_constraints='()', n_estimators=60, n_jobs=0,\n",
       "              num_parallel_tree=1, predictor='auto', random_state=0,\n",
       "              reg_alpha=1, ...)"
      ]
     },
     "execution_count": 9,
     "metadata": {},
     "output_type": "execute_result"
    }
   ],
   "source": [
    "#grid = GridSearchCV(model, params_grid, cv=5, scoring='accuracy')\n",
    "#grid.fit(X_train, y_train)\n",
    "final_model.fit(X_train, y_train)\n",
    "#train_predictions = grid.predict(X_train)\n",
    "#accuracy_score(y_train, train_predictions)\n"
   ]
  },
  {
   "cell_type": "code",
   "execution_count": 10,
   "id": "af931b60",
   "metadata": {
    "execution": {
     "iopub.execute_input": "2022-09-30T18:48:05.478278Z",
     "iopub.status.busy": "2022-09-30T18:48:05.477879Z",
     "iopub.status.idle": "2022-09-30T18:48:05.482891Z",
     "shell.execute_reply": "2022-09-30T18:48:05.481623Z"
    },
    "papermill": {
     "duration": 0.013914,
     "end_time": "2022-09-30T18:48:05.485113",
     "exception": false,
     "start_time": "2022-09-30T18:48:05.471199",
     "status": "completed"
    },
    "tags": []
   },
   "outputs": [],
   "source": [
    "#grid.best_params_"
   ]
  },
  {
   "cell_type": "code",
   "execution_count": 11,
   "id": "38194acc",
   "metadata": {
    "execution": {
     "iopub.execute_input": "2022-09-30T18:48:05.498017Z",
     "iopub.status.busy": "2022-09-30T18:48:05.497078Z",
     "iopub.status.idle": "2022-09-30T18:48:05.530020Z",
     "shell.execute_reply": "2022-09-30T18:48:05.528778Z"
    },
    "papermill": {
     "duration": 0.042352,
     "end_time": "2022-09-30T18:48:05.532640",
     "exception": false,
     "start_time": "2022-09-30T18:48:05.490288",
     "status": "completed"
    },
    "tags": []
   },
   "outputs": [
    {
     "data": {
      "text/plain": [
       "PassengerId    0\n",
       "Pclass         0\n",
       "Sex            0\n",
       "Age            0\n",
       "SibSp          0\n",
       "Parch          0\n",
       "Fare           1\n",
       "Embarked       0\n",
       "dtype: int64"
      ]
     },
     "execution_count": 11,
     "metadata": {},
     "output_type": "execute_result"
    }
   ],
   "source": [
    "test_file = \"/kaggle/input/titanic/test.csv\"\n",
    "test = pd.read_csv(test_file)\n",
    "test.Age.fillna(train.Age.median(), inplace=True)\n",
    "test[['Sex', 'Embarked']] = oe.fit_transform(test[['Sex', 'Embarked']])\n",
    "test[['Age', 'Fare']] = std_s.fit_transform(test[['Age', 'Fare']])\n",
    "test.drop(drop_features, axis=1, inplace=True)\n",
    "test.isna().sum()"
   ]
  },
  {
   "cell_type": "code",
   "execution_count": 12,
   "id": "c01240ae",
   "metadata": {
    "execution": {
     "iopub.execute_input": "2022-09-30T18:48:05.545093Z",
     "iopub.status.busy": "2022-09-30T18:48:05.544669Z",
     "iopub.status.idle": "2022-09-30T18:48:05.555917Z",
     "shell.execute_reply": "2022-09-30T18:48:05.554964Z"
    },
    "papermill": {
     "duration": 0.02055,
     "end_time": "2022-09-30T18:48:05.558565",
     "exception": false,
     "start_time": "2022-09-30T18:48:05.538015",
     "status": "completed"
    },
    "tags": []
   },
   "outputs": [],
   "source": [
    "#predictions = grid.best_estimator_.predict(test)\n",
    "predictions = final_model.predict(test)"
   ]
  },
  {
   "cell_type": "code",
   "execution_count": 13,
   "id": "6711a404",
   "metadata": {
    "execution": {
     "iopub.execute_input": "2022-09-30T18:48:05.571190Z",
     "iopub.status.busy": "2022-09-30T18:48:05.570594Z",
     "iopub.status.idle": "2022-09-30T18:48:05.579129Z",
     "shell.execute_reply": "2022-09-30T18:48:05.578203Z"
    },
    "papermill": {
     "duration": 0.017786,
     "end_time": "2022-09-30T18:48:05.581812",
     "exception": false,
     "start_time": "2022-09-30T18:48:05.564026",
     "status": "completed"
    },
    "tags": []
   },
   "outputs": [],
   "source": [
    "output = pd.DataFrame({'PassengerId': test.PassengerId, 'Survived': predictions})\n",
    "output.to_csv('submission.csv', index=False)"
   ]
  }
 ],
 "metadata": {
  "kernelspec": {
   "display_name": "Python 3",
   "language": "python",
   "name": "python3"
  },
  "language_info": {
   "codemirror_mode": {
    "name": "ipython",
    "version": 3
   },
   "file_extension": ".py",
   "mimetype": "text/x-python",
   "name": "python",
   "nbconvert_exporter": "python",
   "pygments_lexer": "ipython3",
   "version": "3.7.12"
  },
  "papermill": {
   "default_parameters": {},
   "duration": 13.552689,
   "end_time": "2022-09-30T18:48:06.309825",
   "environment_variables": {},
   "exception": null,
   "input_path": "__notebook__.ipynb",
   "output_path": "__notebook__.ipynb",
   "parameters": {},
   "start_time": "2022-09-30T18:47:52.757136",
   "version": "2.3.4"
  }
 },
 "nbformat": 4,
 "nbformat_minor": 5
}
